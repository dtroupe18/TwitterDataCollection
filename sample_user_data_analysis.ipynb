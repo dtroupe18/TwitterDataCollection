{
 "cells": [
  {
   "cell_type": "code",
   "execution_count": null,
   "metadata": {
    "collapsed": true
   },
   "outputs": [],
   "source": [
    "import pandas as pd\n",
    "import numpy as np\n",
    "\n",
    "column_names = [\"id\", \"username\", \"screen_name\", \"location\", \n",
    "                \"url\", \"description\", \"followers\", \"following\",\n",
    "                \"favorite_count\", \"tweet_count\", \"created_at\", \n",
    "                \"time_zone\", \"geo_enabled\", \"language\",\n",
    "                \"profile_image_url\", \"default_profile\", \n",
    "                \"default_profile_image\"]\n",
    "\n",
    "# read in the user data csv file\n",
    "data_frame = pd.read_csv('userDataSample.csv', names=column_names)\n",
    "# print(data_frame)"
   ]
  },
  {
   "cell_type": "code",
   "execution_count": null,
   "metadata": {},
   "outputs": [],
   "source": [
    "missing_data = df.isnull().sum()\n",
    "missing_data.plot(kind='bar', color='Red', title=\"Number of Rows Missing Data\", grid=True).legend(loc='center left', bbox_to_anchor=(1, 0.5))"
   ]
  }
 ],
 "metadata": {
  "kernelspec": {
   "display_name": "Python 2",
   "language": "python",
   "name": "python2"
  },
  "language_info": {
   "codemirror_mode": {
    "name": "ipython",
    "version": 2
   },
   "file_extension": ".py",
   "mimetype": "text/x-python",
   "name": "python",
   "nbconvert_exporter": "python",
   "pygments_lexer": "ipython2",
   "version": "2.7.6"
  }
 },
 "nbformat": 4,
 "nbformat_minor": 0
}
